{
 "cells": [
  {
   "cell_type": "markdown",
   "metadata": {
    "nbsphinx": "hidden"
   },
   "source": [
    "# Random Signals and LTI-Systems\n",
    "\n",
    "*This jupyter notebook is part of a [collection of notebooks](../index.ipynb) on various topics of Digital Signal Processing. Please direct questions and suggestions to [Sascha.Spors@uni-rostock.de](mailto:Sascha.Spors@uni-rostock.de).*"
   ]
  },
  {
   "cell_type": "markdown",
   "metadata": {},
   "source": [
    "## Linear Prediction\n",
    "\n",
    "In general, [predictive modeling](https://en.wikipedia.org/wiki/Predictive_modelling) aims at predicting outcomes using (statistical) models of the underlying processes. When applied to discrete-time signals, it refers to predicting future values from past ones. Different signal models are used for this purpose. Forward [linear prediction](https://en.wikipedia.org/wiki/Linear_prediction) aims at predicting the actual value $x[k]$ of a discrete random signal by a linear combination of its past values. It is frequently applied in lossless and lossy coding of signals. For instance, [linear predictive coding](https://en.wikipedia.org/wiki/Linear_predictive_coding) (LPC) is a major building block of many [speech coding](https://en.wikipedia.org/wiki/Speech_coding) and speech synthesis techniques."
   ]
  },
  {
   "cell_type": "markdown",
   "metadata": {},
   "source": [
    "### Theory\n",
    "\n",
    "It is assumed that $x[k]$ is a real-valued discrete-time random signal. The prediction $\\hat{x}[k]$ of the current sample $x[k]$ is computed from a weighted superposition of the past $N$ samples\n",
    "\n",
    "\\begin{equation}\n",
    "\\hat{x}[k] = \\sum_{\\kappa = 1}^{N} h_\\kappa[k] \\, x[k - \\kappa]\n",
    "\\end{equation}\n",
    "\n",
    "where $N$ denotes the order of the predictor and $h_\\kappa[k]$ the weights of the past $N$ samples $x[k - \\kappa]$ at time-instant $k$. The weights might differ for different time-instants. This constitutes a [moving average](https://en.wikipedia.org/wiki/Moving-average_model) (MA) model or a linear filter with finite impulse response (FIR). Therefore the weights $h_\\kappa[k]$ can be interpreted as the filter coefficients of a time-variant non-recursive filter with FIR.\n",
    "\n",
    "It is beneficial to express above sum as an inner product of vectors. Combining the $N$ filter coefficients and the samples of the signal into the $N \\times 1$ vectors (i.e. column vectors)\n",
    "\n",
    "\\begin{align}\n",
    "\\mathbf{x}[k] &= \\left[ x[k], x[k-1], \\dots, x[k-N+1] \\right]^T \\\\\n",
    "\\mathbf{h}[k] &= \\left[ h_1[k], h_2[k], \\dots, h_N[k] \\right]^T\n",
    "\\end{align}\n",
    "\n",
    "yields\n",
    "\n",
    "\\begin{equation}\n",
    "\\hat{x}[k] = \\mathbf{h}^T[k] \\, \\mathbf{x}[k-1]\n",
    "\\end{equation}\n",
    "\n",
    "for the above sum equation.\n",
    "\n",
    "The aim of linear prediction is to determine the filter coefficients such that the predicted signal $\\hat{x}[k]$ matches the signal $x[k]$ as close as possible. In order to quantify the deviation between the signal $x[k]$ and its predicted value $\\hat{x}[k]$ at time-instance $k$, the error signal\n",
    "\n",
    "\\begin{align}\n",
    "e[k] &= x[k] - \\hat{x}[k] \\\\\n",
    "&= x[k] - \\mathbf{h}^T[k] \\, \\mathbf{x}[k-1]\n",
    "\\end{align}\n",
    "\n",
    "is introduced. The error $e[k]$ equals zero, if the signal $x[k]$ is perfectly predicted. In general, this cannot be achieved by a finite predictor order $N$. The problem of determining suitable filter coefficients could be approached by directly minimizing the (average) error. However, this constitutes a non-convex optimization problem. Instead, the quadratic average of the error $e[k]$ is typically used. This measure is known as [*mean squared error*](https://en.wikipedia.org/wiki/Mean_squared_error) (MSE). It is defined as\n",
    "\n",
    "\\begin{align}\n",
    "J &= E \\left\\{ | e[k] |^2 \\right\\} \\\\\n",
    "&= E \\left\\{ | x[k] - \\mathbf{h}^T[k] \\, \\mathbf{x}[k-1] |^2 \\right\\}\n",
    "\\end{align}\n",
    "\n",
    "Above equation is referred to as [*cost function*](https://en.wikipedia.org/wiki/Loss_function) $J$ of the optimization problem. We aim at minimizing the cost function, hence minimizing the MSE between the signal $x[k]$ and its prediction $\\hat{x}[k]$. The solution of this [convex optimization](https://en.wikipedia.org/wiki/Convex_optimization) problem is referred to as [minimum mean squared error](https://en.wikipedia.org/wiki/Minimum_mean_square_error) (MMSE) solution. Minimizing the cost function is achieved by calculating its gradient with respect to the filter coefficients\n",
    "\n",
    "\\begin{align}\n",
    "\\nabla_\\mathbf{h} J &= -2 E \\left\\{ x[k-1] (x[k] - \\mathbf{h}^T[k] \\mathbf{x}[k-1]) \\right\\} \\\\\n",
    "&= - 2 \\mathbf{r}[k] + 2 \\mathbf{R}[k-1] \\mathbf{h}[k]\n",
    "\\end{align}\n",
    "\n",
    "where\n",
    "\n",
    "\\begin{align}\n",
    "\\mathbf{R}[k] &= E \\{ \\mathbf{x}[k] \\mathbf{x}^T[k] \\} \\\\\n",
    "\\mathbf{r}[k] &= E \\{ \\mathbf{x}[k-1] x[k] \\}\n",
    "\\end{align}\n",
    "\n",
    "denote the $N \\times N$ auto-correlation matrix (originating from an outer product) and $N \\times 1$ cross-correlation vector, respectively. The elements of the auto-correlation matrix $\\mathbf{R}[k]$ can be interpreted by expanding the product $\\mathbf{x}[k] \\mathbf{x}^T[k]$ and using the definition of the auto-correlation function (ACF)\n",
    "\n",
    "\\begin{equation}\n",
    "\\mathbf{R}[k] = \\left[\n",
    "\\begin{matrix}\n",
    "\\varphi_{xx}[k,k] & \\varphi_{xx}[k,k-1] & \\dots & \\varphi_{xx}[k,k-N+1] \\\\\n",
    "\\varphi_{xx}[k-1,k] & \\varphi_{xx}[k-1,k-1] & \\dots & \\varphi_{xx}[k-1,k-N+1] \\\\\n",
    "\\vdots & \\vdots & \\ddots & \\vdots \\\\\n",
    "\\varphi_{xx}[k-N+1,k] & \\varphi_{xx}[k-N+1,k-1] & \\dots & \\varphi_{xx}[k-N+1,k-N+1]\n",
    "\\end{matrix}\n",
    "\\right]\n",
    "\\end{equation}\n",
    "\n",
    "The matrix is composed from the values of the ACF $\\varphi_{xx}[k_1, k_2]$ for all combinations of time indexes. It is symmetric with respect to the main diagonal. The elements on the main diagonal constitute the quadratic means at the respective time indexes. The elements of the cross-correlation vector $\\mathbf{r}[k]$ are given as\n",
    "\n",
    "\\begin{equation}\n",
    "\\mathbf{r}[k] = \\left[\n",
    "\\begin{matrix}\n",
    "\\varphi_{xx}[k-1,k] \\\\\n",
    "\\varphi_{xx}[k-2,k] \\\\\n",
    "\\vdots \\\\\n",
    "\\varphi_{xx}[k-N,k]\n",
    "\\end{matrix}\n",
    "\\right]\n",
    "\\end{equation}\n",
    "\n",
    "As the MMSE solution constitutes a convex optimization problem, the minimum of the cost function is found by setting its gradient to zero, $\\nabla_\\mathbf{h} J = 0$. Rearranging terms this results in the *Wiener-Hopf* equation\n",
    "\n",
    "\\begin{equation}\n",
    "\\mathbf{R}[k-1] \\mathbf{h}[k] = \\mathbf{r}[k] \n",
    "\\end{equation}\n",
    "\n",
    "If $\\mathbf{R}[k-1]$ has full rank (which should hold due to the random signal assumption), the optimum filter coefficients in the MMSE sense are given as\n",
    "\n",
    "\\begin{equation}\n",
    "\\mathbf{h}[k] = \\mathbf{R}^{-1}[k-1] \\mathbf{r}[k], \n",
    "\\end{equation}\n",
    "\n",
    "i.e. solving the Wiener-Hopf equation by direct matrix inverse.\n",
    "\n",
    "Note that an adaptive LMS algorithm is existing (commonly denoted as *Widrow-Hopf LMS* solution), which uses straightforward steepest gradient descent to solve for $\\mathbf{h}[k]$ instead of direct matrix inversion. Don't get confused by the names *Wiener* and *Widrow*."
   ]
  },
  {
   "cell_type": "markdown",
   "metadata": {},
   "source": [
    "### Example - Linear Prediction of a Speech Signal\n",
    "\n",
    "In the following example, the principle of forward linear prediction is applied to a recording of a speech signal. The recording contains the stationary part of the vocal 'o'. This random signal can be considered reasonably well as wide-sense stationary (WSS). It follows from the properties of the ACF that\n",
    "\n",
    "\\begin{align}\n",
    "\\mathbf{R}[k] &= \\mathbf{R} \\\\\n",
    "\\mathbf{r}[k] &= \\mathbf{r} \\\\\n",
    "\\mathbf{h}[k] &= \\mathbf{h} = \\left[ h_1, h_2, \\dots, h_N \\right]^T\n",
    "\\end{align}\n",
    "\n",
    "\n",
    "\n",
    "As we only have access to one recorded instance of the vocal, we inherently assume wide-sense ergodicity. The expectation is computed by averaging with respect to time."
   ]
  },
  {
   "cell_type": "markdown",
   "metadata": {},
   "source": [
    "#### Computation of prediction filter\n",
    "\n",
    "First the signal is loaded, conditioned and truncated"
   ]
  },
  {
   "cell_type": "code",
   "execution_count": null,
   "metadata": {},
   "outputs": [],
   "source": [
    "import numpy as np\n",
    "import matplotlib.pyplot as plt\n",
    "from scipy.io import wavfile\n",
    "\n",
    "L = 32768  # total number of samples of signal\n",
    "N = 8  # order of predictor = number of FIR coefficients\n",
    "\n",
    "# read and truncate audio file\n",
    "fs, x = wavfile.read('../data/vocal_o_8k.wav')\n",
    "x = np.asarray(x, dtype=float)/2**15  # assuming 16 Bit integer encoding\n",
    "x = x[:L]"
   ]
  },
  {
   "cell_type": "markdown",
   "metadata": {},
   "source": [
    "The auto-correlation matrix and the cross-correlation vector are estimated by averaging with respect to time. For instance\n",
    "\n",
    "\\begin{equation}\n",
    "\\mathbf{R} \\approx \\frac{1}{L-N+1} \\sum_{k = N}^{L} \\mathbf{x}[k-1] \\mathbf{x}^T[k-1]\n",
    "\\end{equation}\n",
    "\n",
    "where $L$ denotes the total number of samples of $x[k]$."
   ]
  },
  {
   "cell_type": "code",
   "execution_count": null,
   "metadata": {},
   "outputs": [],
   "source": [
    "R = np.zeros(shape=(N, N))\n",
    "r = np.zeros(shape=(N, 1))\n",
    "\n",
    "for k in np.arange(N, L):\n",
    "    xk = np.expand_dims(np.flip(x[k-N:k]), 1)\n",
    "    R += 1/(L+2-N) * xk * xk.T\n",
    "    r += 1/(L+2-N) * xk * x[k]"
   ]
  },
  {
   "cell_type": "markdown",
   "metadata": {},
   "source": [
    "Let's inspect the estimated auto-correlation matrix by plotting its values within a surface plot"
   ]
  },
  {
   "cell_type": "code",
   "execution_count": null,
   "metadata": {},
   "outputs": [],
   "source": [
    "plt.figure(figsize=(3, 3))\n",
    "plt.matshow(R)\n",
    "plt.title(r'Estimate of auto-correlation matrix $\\mathbf{R}$')\n",
    "plt.colorbar(fraction=0.045)\n",
    "plt.xlabel('sample shift')\n",
    "plt.ylabel('sample shift');"
   ]
  },
  {
   "cell_type": "markdown",
   "metadata": {},
   "source": [
    "As expected, the elements on the main diagonal have the largest values. The values decay with an increasing distance of the minor diagonals. Hence, the statistical dependencies between samples at two different time instants of the signal $x[k]$ decrease with an increasing distance between the samples. These statistical dependencies are exploited for the prediction of the current signal value from past ones.\n",
    "\n",
    "Now the filter coefficients are computed and plotted."
   ]
  },
  {
   "cell_type": "code",
   "execution_count": null,
   "metadata": {},
   "outputs": [],
   "source": [
    "h = np.linalg.inv(R) @ r\n",
    "h = np.squeeze(h)\n",
    "\n",
    "plt.figure(figsize=(8, 3))\n",
    "plt.stem(h, basefmt='C0:')\n",
    "plt.xlabel(r'$k$')\n",
    "plt.ylabel(r'$h_k$')\n",
    "plt.grid()"
   ]
  },
  {
   "cell_type": "markdown",
   "metadata": {},
   "source": [
    "#### Forward prediction\n",
    "\n",
    "The value of the signal $x[k]$ at time-instant $k$ is predicted from its past $N$ values by evaluating the equation given above. This essentially constitutes a linear convolution $\\hat{x}[k] = x[k] \\ast \\hat{h}[k]$ with the prediction filter\n",
    "\n",
    "**CHECK THIS EQUATION AND INDICES**\n",
    "\\begin{equation}\n",
    "\\hat{h}[k] = \\begin{cases} 0 & \\text{for } k=0 \\\\ h_k & \\text{for } 0 < k < N \\end{cases}\n",
    "\\end{equation}\n",
    "\n",
    "In order to evaluate the predictor, the predicted signal $\\hat{x}[k]$ is computed for all time instants $k$ and plotted in comparison with the signal $x[k]$."
   ]
  },
  {
   "cell_type": "code",
   "execution_count": null,
   "metadata": {},
   "outputs": [],
   "source": [
    "hp = np.concatenate(([0], h))\n",
    "xp = np.convolve(x, hp)[:L]\n",
    "\n",
    "plt.figure(figsize=(8, 4))\n",
    "plt.plot(x, label=r'signal $x[k]$', linestyle='--')\n",
    "plt.plot(xp, label=r'predicted signal $\\hat{x}[k]$', alpha=.8)\n",
    "plt.xlabel(r'$k$')\n",
    "plt.axis([10000, 10500, -.6, .6])\n",
    "plt.legend()\n",
    "plt.grid()"
   ]
  },
  {
   "cell_type": "markdown",
   "metadata": {},
   "source": [
    "As the difference between the actual signal and its prediction is quite low, the error $e[k]$ is computed and plotted for inspection. "
   ]
  },
  {
   "cell_type": "code",
   "execution_count": null,
   "metadata": {},
   "outputs": [],
   "source": [
    "e = x - xp\n",
    "\n",
    "plt.figure(figsize=(8, 4))\n",
    "plt.plot(e)\n",
    "plt.xlabel(r'$k$')\n",
    "plt.ylabel(r'$e[k]$')\n",
    "plt.axis([10000, 10500, -.015, .015])\n",
    "plt.grid()"
   ]
  },
  {
   "cell_type": "markdown",
   "metadata": {},
   "source": [
    "The amplitude of the error is much lower than the amplitude of the signal. This shows that the signal can be well predicted by the computed predictor. In order to quantify this, the variance of the signal and the error is computed as measure of their average power."
   ]
  },
  {
   "cell_type": "code",
   "execution_count": null,
   "metadata": {},
   "outputs": [],
   "source": [
    "print('Variance of signal {:2.6f}'.format(np.var(x)))\n",
    "print('Variance of error {:2.6f}'.format(np.var(e)))"
   ]
  },
  {
   "cell_type": "markdown",
   "metadata": {},
   "source": [
    "#### Prediction from residual error\n",
    "\n",
    "The error signal may be rewritten as\n",
    "\n",
    "\\begin{align}\n",
    "e[k] &= x[k] - \\mathbf{h}^T[k] \\, \\mathbf{x}[k-1] \\\\\n",
    "&= h_e[k] \\ast x[k]\n",
    "\\end{align}\n",
    "\n",
    "where\n",
    "**CHECK THIS EQUATION AND INDICES**\n",
    "\\begin{equation}\n",
    "h_e[k] = \\begin{cases} 1 & \\text{for } k=0 \\\\ - h_k & \\text{for } 0 < k < N \\end{cases}\n",
    "\\end{equation}\n",
    "\n",
    "denotes the prediction-error filter. Taking the $z$-transform of the error signal yields\n",
    "\n",
    "\\begin{equation}\n",
    "E(z) = H_e(z) \\cdot X(z)\n",
    "\\end{equation}\n",
    "\n",
    "where for instance $E(z) = \\mathcal{Z} \\{ e[k] \\}$. From this result it can be concluded that the signal $x[k]$ can be computed from the error signal $e[k]$ by inverse filtering with the prediction-error filter\n",
    "\n",
    "\\begin{equation}\n",
    "x[k] = \\underbrace{\\mathcal{Z} \\left\\{ \\frac{1}{H_e(z)} \\right\\}}_{h_e^{-1}[k]} \\ast e[k]\n",
    "\\end{equation}\n",
    "\n",
    "The inverse of the prediction-error filter $h_e^{-1}[k]$ constitutes an pole-only (recursive) filter as the prediction filter is a zero-only (non-recursive) filter. In the following, the signal $x[k]$ is computed from the error signal $e[k]$ and plotted.\n",
    "\n",
    "**denoting $h_e^{-1}$ for inverse filter is misleading as it could be interpreted as 1/h operation, rather use a subscript or new variable name**"
   ]
  },
  {
   "cell_type": "code",
   "execution_count": null,
   "metadata": {},
   "outputs": [],
   "source": [
    "from scipy.signal import lfilter\n",
    "\n",
    "he = np.concatenate(([1], -h))\n",
    "xe = lfilter([1], he, e)\n",
    "\n",
    "plt.figure(figsize=(8, 4))\n",
    "plt.plot(xe)\n",
    "plt.xlabel(r'$k$')\n",
    "plt.ylabel(r'reconstructed signal $x[k]$')\n",
    "plt.axis([10000, 10500, -.6, .6])\n",
    "plt.grid()"
   ]
  },
  {
   "cell_type": "markdown",
   "metadata": {},
   "source": [
    "#### Application - Speech synthesis using an artificial glottal signal\n",
    "\n",
    "Linear prediction is used as [linear predictive coding](https://en.wikipedia.org/wiki/Linear_predictive_coding) (LPC) in the coding and synthesis of speech signals. The latter application is briefly presented in the sequel. It bases on the [source-filter model](https://en.wikipedia.org/wiki/Source%E2%80%93filter_model) of human speech production. Here speech production is modeled as a sound source filtered by a linear acoustic filter. In the case of vocals, this sound source are the [vocal cords](https://en.wikipedia.org/wiki/Vocal_cords) which generate the periodic glottal signal. The [vocal tract](https://en.wikipedia.org/wiki/Vocal_tract) may be interpreted as an acoustic filter. Vocals are articulated by changing the air flow through the vocal cords, their state as well as the configuration of the vocal tract. Due to its acoustical properties, the vocal tract can be represented as a pole-only filter.\n",
    "\n",
    "The basic idea of LPC-based speech synthesis is, that the inverse of the prediction-error filter is an pole-only filter. When interpreting the error signal $e[k]$ as glottal signal in the source-filter model, the inverse of the prediction-error filter can be used to generate the speech signal $x[k]$. A synthetic vocal may be generated by using a synthetic glottal signal. A simple model for the glottal signal is a mean-free periodic rectangular signal with a duty cycle of 1:10. The signal is generated and plotted for illustration."
   ]
  },
  {
   "cell_type": "code",
   "execution_count": null,
   "metadata": {},
   "outputs": [],
   "source": [
    "from scipy.signal import square\n",
    "\n",
    "\n",
    "def glottal_signal(f0):\n",
    "    '''Generates a synthetic glottal signal with fundamental frequency f0 in Hertz.'''\n",
    "    w0 = 2 * np.pi * f0\n",
    "    t = 1/fs * np.arange(L)\n",
    "    g = 1/2 * (1 + square(w0*t, duty=1/10))\n",
    "\n",
    "    return - g + 0.1\n",
    "\n",
    "\n",
    "g = 0.0055 * glottal_signal(100)\n",
    "\n",
    "plt.figure(figsize=(8, 4))\n",
    "plt.stem(g[:100])\n",
    "plt.xlabel(r'$k$')\n",
    "plt.ylabel(r'glottal signal $g[k]$')\n",
    "plt.grid()"
   ]
  },
  {
   "cell_type": "markdown",
   "metadata": {},
   "source": [
    "The spectral contents of the error signal $e[k]$ and the synthetic glottal signal $g[k]$ are compared by estimating their power spectral densities (PSDs) using the [Welch technique](../spectral_estimation_random_signals/welch_method.ipynb)."
   ]
  },
  {
   "cell_type": "code",
   "execution_count": null,
   "metadata": {},
   "outputs": [],
   "source": [
    "from scipy.signal import welch\n",
    "\n",
    "f, Pee = welch(e, fs, nperseg=1024)\n",
    "f, Pgg = welch(g, fs, nperseg=1024)\n",
    "plt.plot(f, Pee,\n",
    "         label=r'$\\hat{\\Phi}_{ee}(e^{j \\Omega})$ error signal')\n",
    "plt.plot(f, Pgg,\n",
    "         label=r'$\\hat{\\Phi}_{gg}(e^{j \\Omega})$ synthetic glottal signal')\n",
    "\n",
    "plt.xlim([0, 1000])\n",
    "plt.xlabel('frequency in Hertz')\n",
    "plt.legend()\n",
    "plt.grid()"
   ]
  },
  {
   "cell_type": "markdown",
   "metadata": {},
   "source": [
    "The spectra of both signals constitute line-like spectra due to their periodicity. However, the levels of the spectral lines differ. This becomes most prominent around 600 Hertz. The synthetic glottal signal is now filtered with the inverse prediction-error filter in order to generate the synthetic speech signal."
   ]
  },
  {
   "cell_type": "code",
   "execution_count": null,
   "metadata": {},
   "outputs": [],
   "source": [
    "xa = lfilter([1], np.concatenate(([1], -h)), g)\n",
    "\n",
    "plt.figure(figsize=(8, 4))\n",
    "plt.plot(xa)\n",
    "plt.xlabel(r'$k$')\n",
    "plt.ylabel(r'synthetic signal $x[k]$')\n",
    "plt.axis([10000, 10500, -1, 1])\n",
    "plt.grid()"
   ]
  },
  {
   "cell_type": "markdown",
   "metadata": {},
   "source": [
    "Visual comparison with the recorded speech signal shown above yields that the coarse structure of both is quite similar. The differences are a consequence of the simple glottal signal used. Both signals may also be compared aurally by listening to them."
   ]
  },
  {
   "cell_type": "code",
   "execution_count": null,
   "metadata": {},
   "outputs": [],
   "source": [
    "wavfile.write('artificial_vocal.wav', fs, np.int16(xa*2**15))"
   ]
  },
  {
   "cell_type": "markdown",
   "metadata": {},
   "source": [
    "**Recorded vocal**\n",
    "\n",
    "<audio src=\"./../data/vocal_o_8k.wav\" controls>Your browser does not support the audio element.</audio>[../data/vocal_o_8k.wav](../data/vocal_o_8k.wav)\n",
    "\n",
    "**Synthesized vocal**\n",
    "\n",
    "<audio src=\"./artificial_vocal.wav\" controls>Your browser does not support the audio element.</audio>[./artificial_vocal.wav](./artificial_vocal.wav)"
   ]
  },
  {
   "cell_type": "markdown",
   "metadata": {
    "nbsphinx": "hidden"
   },
   "source": [
    "**Copyright**\n",
    "\n",
    "This notebook is provided as [Open Educational Resource](https://en.wikipedia.org/wiki/Open_educational_resources). Feel free to use the notebook for your own purposes. The text is licensed under [Creative Commons Attribution 4.0](https://creativecommons.org/licenses/by/4.0/), the code of the IPython examples under the [MIT license](https://opensource.org/licenses/MIT). Please attribute the work as follows: *Sascha Spors, Digital Signal Processing - Lecture notes featuring computational examples*."
   ]
  }
 ],
 "metadata": {
  "anaconda-cloud": {},
  "kernelspec": {
   "display_name": "Python 3",
   "language": "python",
   "name": "python3"
  },
  "language_info": {
   "codemirror_mode": {
    "name": "ipython",
    "version": 3
   },
   "file_extension": ".py",
   "mimetype": "text/x-python",
   "name": "python",
   "nbconvert_exporter": "python",
   "pygments_lexer": "ipython3",
   "version": "3.8.6"
  }
 },
 "nbformat": 4,
 "nbformat_minor": 1
}
